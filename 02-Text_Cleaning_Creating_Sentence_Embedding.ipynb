{
 "cells": [
  {
   "cell_type": "code",
   "execution_count": 2,
   "metadata": {},
   "outputs": [],
   "source": [
    "import pandas as pd\n",
    "import gensim"
   ]
  },
  {
   "cell_type": "code",
   "execution_count": 3,
   "metadata": {},
   "outputs": [],
   "source": [
    "import numpy as np\n",
    "import cleantext"
   ]
  },
  {
   "cell_type": "code",
   "execution_count": 4,
   "metadata": {},
   "outputs": [],
   "source": [
    "import re \n",
    "import contractions"
   ]
  },
  {
   "cell_type": "code",
   "execution_count": 30,
   "metadata": {},
   "outputs": [],
   "source": [
    "from nltk.corpus import stopwords"
   ]
  },
  {
   "cell_type": "code",
   "execution_count": 40,
   "metadata": {},
   "outputs": [],
   "source": [
    "df = pd.read_csv('train.csv')"
   ]
  },
  {
   "cell_type": "code",
   "execution_count": 41,
   "metadata": {},
   "outputs": [
    {
     "data": {
      "text/html": [
       "<div>\n",
       "<style scoped>\n",
       "    .dataframe tbody tr th:only-of-type {\n",
       "        vertical-align: middle;\n",
       "    }\n",
       "\n",
       "    .dataframe tbody tr th {\n",
       "        vertical-align: top;\n",
       "    }\n",
       "\n",
       "    .dataframe thead th {\n",
       "        text-align: right;\n",
       "    }\n",
       "</style>\n",
       "<table border=\"1\" class=\"dataframe\">\n",
       "  <thead>\n",
       "    <tr style=\"text-align: right;\">\n",
       "      <th></th>\n",
       "      <th>id</th>\n",
       "      <th>keyword</th>\n",
       "      <th>location</th>\n",
       "      <th>text</th>\n",
       "      <th>target</th>\n",
       "    </tr>\n",
       "  </thead>\n",
       "  <tbody>\n",
       "    <tr>\n",
       "      <th>0</th>\n",
       "      <td>1</td>\n",
       "      <td>NaN</td>\n",
       "      <td>NaN</td>\n",
       "      <td>Our Deeds are the Reason of this #earthquake M...</td>\n",
       "      <td>1</td>\n",
       "    </tr>\n",
       "    <tr>\n",
       "      <th>1</th>\n",
       "      <td>4</td>\n",
       "      <td>NaN</td>\n",
       "      <td>NaN</td>\n",
       "      <td>Forest fire near La Ronge Sask. Canada</td>\n",
       "      <td>1</td>\n",
       "    </tr>\n",
       "    <tr>\n",
       "      <th>2</th>\n",
       "      <td>5</td>\n",
       "      <td>NaN</td>\n",
       "      <td>NaN</td>\n",
       "      <td>All residents asked to 'shelter in place' are ...</td>\n",
       "      <td>1</td>\n",
       "    </tr>\n",
       "    <tr>\n",
       "      <th>3</th>\n",
       "      <td>6</td>\n",
       "      <td>NaN</td>\n",
       "      <td>NaN</td>\n",
       "      <td>13,000 people receive #wildfires evacuation or...</td>\n",
       "      <td>1</td>\n",
       "    </tr>\n",
       "    <tr>\n",
       "      <th>4</th>\n",
       "      <td>7</td>\n",
       "      <td>NaN</td>\n",
       "      <td>NaN</td>\n",
       "      <td>Just got sent this photo from Ruby #Alaska as ...</td>\n",
       "      <td>1</td>\n",
       "    </tr>\n",
       "  </tbody>\n",
       "</table>\n",
       "</div>"
      ],
      "text/plain": [
       "   id keyword location                                               text  \\\n",
       "0   1     NaN      NaN  Our Deeds are the Reason of this #earthquake M...   \n",
       "1   4     NaN      NaN             Forest fire near La Ronge Sask. Canada   \n",
       "2   5     NaN      NaN  All residents asked to 'shelter in place' are ...   \n",
       "3   6     NaN      NaN  13,000 people receive #wildfires evacuation or...   \n",
       "4   7     NaN      NaN  Just got sent this photo from Ruby #Alaska as ...   \n",
       "\n",
       "   target  \n",
       "0       1  \n",
       "1       1  \n",
       "2       1  \n",
       "3       1  \n",
       "4       1  "
      ]
     },
     "execution_count": 41,
     "metadata": {},
     "output_type": "execute_result"
    }
   ],
   "source": [
    "df.head()"
   ]
  },
  {
   "cell_type": "code",
   "execution_count": 42,
   "metadata": {},
   "outputs": [
    {
     "data": {
      "text/plain": [
       "(7613, 5)"
      ]
     },
     "execution_count": 42,
     "metadata": {},
     "output_type": "execute_result"
    }
   ],
   "source": [
    "df.shape"
   ]
  },
  {
   "cell_type": "code",
   "execution_count": 43,
   "metadata": {},
   "outputs": [
    {
     "data": {
      "text/plain": [
       "id             0\n",
       "keyword       61\n",
       "location    2533\n",
       "text           0\n",
       "target         0\n",
       "dtype: int64"
      ]
     },
     "execution_count": 43,
     "metadata": {},
     "output_type": "execute_result"
    }
   ],
   "source": [
    "df.isnull().sum()"
   ]
  },
  {
   "cell_type": "code",
   "execution_count": 44,
   "metadata": {},
   "outputs": [],
   "source": [
    " df.fillna('missing',inplace=True)"
   ]
  },
  {
   "cell_type": "code",
   "execution_count": 45,
   "metadata": {},
   "outputs": [
    {
     "data": {
      "text/plain": [
       "id          0\n",
       "keyword     0\n",
       "location    0\n",
       "text        0\n",
       "target      0\n",
       "dtype: int64"
      ]
     },
     "execution_count": 45,
     "metadata": {},
     "output_type": "execute_result"
    }
   ],
   "source": [
    "df.isnull().sum()"
   ]
  },
  {
   "cell_type": "code",
   "execution_count": 13,
   "metadata": {},
   "outputs": [
    {
     "name": "stdout",
     "output_type": "stream",
     "text": [
      "547 µs ± 48.4 µs per loop (mean ± std. dev. of 7 runs, 1000 loops each)\n"
     ]
    }
   ],
   "source": [
    "%%timeit\n",
    "df['target'].value_counts()"
   ]
  },
  {
   "cell_type": "markdown",
   "metadata": {},
   "source": [
    "## Text Cleaning "
   ]
  },
  {
   "cell_type": "code",
   "execution_count": 46,
   "metadata": {},
   "outputs": [
    {
     "data": {
      "text/plain": [
       "'13,000 people receive #wildfires evacuation orders in California '"
      ]
     },
     "execution_count": 46,
     "metadata": {},
     "output_type": "execute_result"
    }
   ],
   "source": [
    "df['text'][3]"
   ]
  },
  {
   "cell_type": "code",
   "execution_count": 49,
   "metadata": {},
   "outputs": [],
   "source": [
    "def clean_text(text):\n",
    "    # Handling contractions\n",
    "    text = contractions.fix(text)\n",
    "    # Clean text inbuilt function\n",
    "    text = cleantext.clean(text, no_digits=True,replace_with_digit='',no_punct=True,no_currency_symbols=True)\n",
    "    # Remove # values\n",
    "    text = re.sub(r'#\\w+','',text)\n",
    "    text = text.split(' ')\n",
    "    text = [word for word in text if word not in stopwords.words('english')]\n",
    "    text = ' '.join(text)\n",
    "    return text"
   ]
  },
  {
   "cell_type": "code",
   "execution_count": 51,
   "metadata": {},
   "outputs": [],
   "source": [
    "df['text'] = df['text'].apply(lambda x: clean_text(x))"
   ]
  },
  {
   "cell_type": "code",
   "execution_count": 52,
   "metadata": {},
   "outputs": [
    {
     "data": {
      "text/plain": [
       "'people receive wildfires evacuation orders california'"
      ]
     },
     "execution_count": 52,
     "metadata": {},
     "output_type": "execute_result"
    }
   ],
   "source": [
    "df['text'][3]"
   ]
  },
  {
   "cell_type": "markdown",
   "metadata": {},
   "source": [
    "## Creating word embedding for each sentence"
   ]
  },
  {
   "cell_type": "code",
   "execution_count": null,
   "metadata": {},
   "outputs": [],
   "source": [
    "# # One time run command \n",
    "# !python -m spacy download en"
   ]
  },
  {
   "cell_type": "code",
   "execution_count": null,
   "metadata": {},
   "outputs": [],
   "source": [
    "# # One time run command \n",
    "# !python -m spacy download en_vectors_web_lg"
   ]
  },
  {
   "cell_type": "code",
   "execution_count": 18,
   "metadata": {},
   "outputs": [
    {
     "name": "stdout",
     "output_type": "stream",
     "text": [
      "Total word vectors: 1070971\n"
     ]
    }
   ],
   "source": [
    "import spacy\n",
    "\n",
    "nlp = spacy.load('en_vectors_web_lg')\n",
    "total_vectors = len(nlp.vocab.vectors)\n",
    "\n",
    "print('Total word vectors:', total_vectors)"
   ]
  },
  {
   "cell_type": "code",
   "execution_count": 19,
   "metadata": {},
   "outputs": [
    {
     "data": {
      "text/plain": [
       "300"
      ]
     },
     "execution_count": 19,
     "metadata": {},
     "output_type": "execute_result"
    }
   ],
   "source": [
    "# Embedding Length \n",
    "nlp.vocab.vectors_length"
   ]
  },
  {
   "cell_type": "code",
   "execution_count": 53,
   "metadata": {},
   "outputs": [],
   "source": [
    "def sentence_embedding(text):\n",
    "    word_list = list(set(text.split(' ')))\n",
    "    word_vector = nlp(word_list[0]).vector\n",
    "    n = len(word_list)\n",
    "    for word in word_list[1:]:\n",
    "        word_vector += np.array(nlp(word).vector)\n",
    "    final_vector = word_vector/n\n",
    "    return np.array(final_vector)"
   ]
  },
  {
   "cell_type": "code",
   "execution_count": 54,
   "metadata": {},
   "outputs": [],
   "source": [
    "l = []\n",
    "for i in df['text']:\n",
    "    l.append(sentence_embedding(i))"
   ]
  },
  {
   "cell_type": "code",
   "execution_count": 55,
   "metadata": {},
   "outputs": [
    {
     "data": {
      "text/plain": [
       "7613"
      ]
     },
     "execution_count": 55,
     "metadata": {},
     "output_type": "execute_result"
    }
   ],
   "source": [
    "len(l)"
   ]
  },
  {
   "cell_type": "code",
   "execution_count": 56,
   "metadata": {},
   "outputs": [],
   "source": [
    "word_embedding_df = pd.DataFrame(l)\n"
   ]
  },
  {
   "cell_type": "code",
   "execution_count": 57,
   "metadata": {},
   "outputs": [
    {
     "data": {
      "text/html": [
       "<div>\n",
       "<style scoped>\n",
       "    .dataframe tbody tr th:only-of-type {\n",
       "        vertical-align: middle;\n",
       "    }\n",
       "\n",
       "    .dataframe tbody tr th {\n",
       "        vertical-align: top;\n",
       "    }\n",
       "\n",
       "    .dataframe thead th {\n",
       "        text-align: right;\n",
       "    }\n",
       "</style>\n",
       "<table border=\"1\" class=\"dataframe\">\n",
       "  <thead>\n",
       "    <tr style=\"text-align: right;\">\n",
       "      <th></th>\n",
       "      <th>0</th>\n",
       "      <th>1</th>\n",
       "      <th>2</th>\n",
       "      <th>3</th>\n",
       "      <th>4</th>\n",
       "      <th>5</th>\n",
       "      <th>6</th>\n",
       "      <th>7</th>\n",
       "      <th>8</th>\n",
       "      <th>9</th>\n",
       "      <th>...</th>\n",
       "      <th>290</th>\n",
       "      <th>291</th>\n",
       "      <th>292</th>\n",
       "      <th>293</th>\n",
       "      <th>294</th>\n",
       "      <th>295</th>\n",
       "      <th>296</th>\n",
       "      <th>297</th>\n",
       "      <th>298</th>\n",
       "      <th>299</th>\n",
       "    </tr>\n",
       "  </thead>\n",
       "  <tbody>\n",
       "    <tr>\n",
       "      <th>0</th>\n",
       "      <td>-0.462142</td>\n",
       "      <td>0.052778</td>\n",
       "      <td>-0.147526</td>\n",
       "      <td>-0.022433</td>\n",
       "      <td>-0.065914</td>\n",
       "      <td>-0.163390</td>\n",
       "      <td>-0.084180</td>\n",
       "      <td>0.149339</td>\n",
       "      <td>0.007110</td>\n",
       "      <td>2.059819</td>\n",
       "      <td>...</td>\n",
       "      <td>-0.315468</td>\n",
       "      <td>0.186460</td>\n",
       "      <td>-0.325243</td>\n",
       "      <td>-0.014464</td>\n",
       "      <td>0.361223</td>\n",
       "      <td>-0.134999</td>\n",
       "      <td>0.008728</td>\n",
       "      <td>0.176468</td>\n",
       "      <td>-0.029409</td>\n",
       "      <td>-0.144857</td>\n",
       "    </tr>\n",
       "    <tr>\n",
       "      <th>1</th>\n",
       "      <td>-0.014817</td>\n",
       "      <td>-0.092123</td>\n",
       "      <td>-0.107169</td>\n",
       "      <td>-0.338657</td>\n",
       "      <td>0.322136</td>\n",
       "      <td>0.048467</td>\n",
       "      <td>0.321796</td>\n",
       "      <td>-0.062403</td>\n",
       "      <td>-0.188868</td>\n",
       "      <td>1.100879</td>\n",
       "      <td>...</td>\n",
       "      <td>-0.000271</td>\n",
       "      <td>0.066260</td>\n",
       "      <td>0.135487</td>\n",
       "      <td>0.009727</td>\n",
       "      <td>0.243807</td>\n",
       "      <td>0.165720</td>\n",
       "      <td>-0.062201</td>\n",
       "      <td>-0.115065</td>\n",
       "      <td>-0.260096</td>\n",
       "      <td>0.124245</td>\n",
       "    </tr>\n",
       "    <tr>\n",
       "      <th>2</th>\n",
       "      <td>0.046859</td>\n",
       "      <td>0.066338</td>\n",
       "      <td>-0.020495</td>\n",
       "      <td>-0.047279</td>\n",
       "      <td>-0.174517</td>\n",
       "      <td>-0.160648</td>\n",
       "      <td>-0.019068</td>\n",
       "      <td>0.017220</td>\n",
       "      <td>-0.016927</td>\n",
       "      <td>2.809466</td>\n",
       "      <td>...</td>\n",
       "      <td>-0.229352</td>\n",
       "      <td>0.030798</td>\n",
       "      <td>0.291578</td>\n",
       "      <td>0.026442</td>\n",
       "      <td>-0.054712</td>\n",
       "      <td>-0.200036</td>\n",
       "      <td>-0.222045</td>\n",
       "      <td>0.130568</td>\n",
       "      <td>0.184944</td>\n",
       "      <td>-0.079101</td>\n",
       "    </tr>\n",
       "    <tr>\n",
       "      <th>3</th>\n",
       "      <td>-0.226582</td>\n",
       "      <td>0.198884</td>\n",
       "      <td>-0.027298</td>\n",
       "      <td>-0.249695</td>\n",
       "      <td>-0.169410</td>\n",
       "      <td>-0.059459</td>\n",
       "      <td>-0.052042</td>\n",
       "      <td>0.202244</td>\n",
       "      <td>0.039382</td>\n",
       "      <td>2.036350</td>\n",
       "      <td>...</td>\n",
       "      <td>-0.284480</td>\n",
       "      <td>0.263769</td>\n",
       "      <td>0.177242</td>\n",
       "      <td>-0.038433</td>\n",
       "      <td>-0.046832</td>\n",
       "      <td>-0.211249</td>\n",
       "      <td>-0.077434</td>\n",
       "      <td>-0.031381</td>\n",
       "      <td>0.162820</td>\n",
       "      <td>-0.051293</td>\n",
       "    </tr>\n",
       "    <tr>\n",
       "      <th>4</th>\n",
       "      <td>-0.158721</td>\n",
       "      <td>-0.086279</td>\n",
       "      <td>0.112909</td>\n",
       "      <td>-0.068443</td>\n",
       "      <td>-0.019881</td>\n",
       "      <td>0.102134</td>\n",
       "      <td>-0.081687</td>\n",
       "      <td>-0.034499</td>\n",
       "      <td>-0.050314</td>\n",
       "      <td>1.590501</td>\n",
       "      <td>...</td>\n",
       "      <td>-0.045970</td>\n",
       "      <td>0.211298</td>\n",
       "      <td>0.146740</td>\n",
       "      <td>0.180153</td>\n",
       "      <td>0.105765</td>\n",
       "      <td>-0.078480</td>\n",
       "      <td>-0.094092</td>\n",
       "      <td>-0.133159</td>\n",
       "      <td>-0.052387</td>\n",
       "      <td>0.109360</td>\n",
       "    </tr>\n",
       "  </tbody>\n",
       "</table>\n",
       "<p>5 rows × 300 columns</p>\n",
       "</div>"
      ],
      "text/plain": [
       "        0         1         2         3         4         5         6    \\\n",
       "0 -0.462142  0.052778 -0.147526 -0.022433 -0.065914 -0.163390 -0.084180   \n",
       "1 -0.014817 -0.092123 -0.107169 -0.338657  0.322136  0.048467  0.321796   \n",
       "2  0.046859  0.066338 -0.020495 -0.047279 -0.174517 -0.160648 -0.019068   \n",
       "3 -0.226582  0.198884 -0.027298 -0.249695 -0.169410 -0.059459 -0.052042   \n",
       "4 -0.158721 -0.086279  0.112909 -0.068443 -0.019881  0.102134 -0.081687   \n",
       "\n",
       "        7         8         9    ...       290       291       292       293  \\\n",
       "0  0.149339  0.007110  2.059819  ... -0.315468  0.186460 -0.325243 -0.014464   \n",
       "1 -0.062403 -0.188868  1.100879  ... -0.000271  0.066260  0.135487  0.009727   \n",
       "2  0.017220 -0.016927  2.809466  ... -0.229352  0.030798  0.291578  0.026442   \n",
       "3  0.202244  0.039382  2.036350  ... -0.284480  0.263769  0.177242 -0.038433   \n",
       "4 -0.034499 -0.050314  1.590501  ... -0.045970  0.211298  0.146740  0.180153   \n",
       "\n",
       "        294       295       296       297       298       299  \n",
       "0  0.361223 -0.134999  0.008728  0.176468 -0.029409 -0.144857  \n",
       "1  0.243807  0.165720 -0.062201 -0.115065 -0.260096  0.124245  \n",
       "2 -0.054712 -0.200036 -0.222045  0.130568  0.184944 -0.079101  \n",
       "3 -0.046832 -0.211249 -0.077434 -0.031381  0.162820 -0.051293  \n",
       "4  0.105765 -0.078480 -0.094092 -0.133159 -0.052387  0.109360  \n",
       "\n",
       "[5 rows x 300 columns]"
      ]
     },
     "execution_count": 57,
     "metadata": {},
     "output_type": "execute_result"
    }
   ],
   "source": [
    "word_embedding_df.head(5)"
   ]
  },
  {
   "cell_type": "code",
   "execution_count": 58,
   "metadata": {},
   "outputs": [],
   "source": [
    "word_embedding_df.to_csv('word_embedding_train_file.csv',index=False)"
   ]
  },
  {
   "cell_type": "code",
   "execution_count": null,
   "metadata": {},
   "outputs": [],
   "source": []
  }
 ],
 "metadata": {
  "kernelspec": {
   "display_name": "Python 3",
   "language": "python",
   "name": "python3"
  },
  "language_info": {
   "codemirror_mode": {
    "name": "ipython",
    "version": 3
   },
   "file_extension": ".py",
   "mimetype": "text/x-python",
   "name": "python",
   "nbconvert_exporter": "python",
   "pygments_lexer": "ipython3",
   "version": "3.7.4"
  }
 },
 "nbformat": 4,
 "nbformat_minor": 4
}
